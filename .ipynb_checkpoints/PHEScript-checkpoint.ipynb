{
 "cells": [
  {
   "cell_type": "code",
   "execution_count": null,
   "metadata": {
    "ExecuteTime": {
     "end_time": "2019-10-25T17:29:37.382828Z",
     "start_time": "2019-10-25T17:29:36.910539Z"
    }
   },
   "outputs": [],
   "source": [
    "import pandas as pd\n",
    "import requests\n",
    "import json\n",
    "import urllib\n",
    "from urllib.parse import quote"
   ]
  },
  {
   "cell_type": "code",
   "execution_count": null,
   "metadata": {
    "ExecuteTime": {
     "end_time": "2019-10-25T17:29:37.906600Z",
     "start_time": "2019-10-25T17:29:37.385476Z"
    }
   },
   "outputs": [],
   "source": [
    "profs = []\n",
    "profIds = []\n",
    "r=requests.get('https://fingertips.phe.org.uk/api/profiles')\n",
    "js = json.loads(r.text)\n",
    "for j, k in enumerate(js):\n",
    "    profs.append(str(js[j]['Name']))\n",
    "for j, k in enumerate(js):\n",
    "    profIds.append(str(js[j]['Id']))"
   ]
  },
  {
   "cell_type": "code",
   "execution_count": null,
   "metadata": {
    "ExecuteTime": {
     "end_time": "2019-10-25T17:30:27.044319Z",
     "start_time": "2019-10-25T17:29:37.908974Z"
    }
   },
   "outputs": [],
   "source": [
    "indicatorIds = []\n",
    "indicatorNames = []\n",
    "for i in profIds:\n",
    "    tdf = pd.read_csv('https://fingertips.phe.org.uk/api/indicator_metadata/csv/by_profile_id?profile_id='+i)            \n",
    "    indicatorIds.extend(tdf['Indicator ID'].tolist())\n",
    "    indicatorNames.extend(tdf['Indicator'].tolist())"
   ]
  },
  {
   "cell_type": "code",
   "execution_count": null,
   "metadata": {
    "ExecuteTime": {
     "start_time": "2019-10-25T17:36:25.887Z"
    },
    "scrolled": true
   },
   "outputs": [],
   "source": [
    "for n, l in enumerate([102, 101, 7, 165]):\n",
    "    print('Retreiving Data for child Area = ', l)\n",
    "\n",
    "    for k, i, in enumerate (indicatorIds):\n",
    "            try:\n",
    "                df = pd.read_csv('https://fingertips.phe.org.uk/api/all_data/csv/by_indicator_id?indicator_ids='+str(i)+'&child_area_type_id='+str(l)+'&parent_area_type_id=15', dtype = str)\n",
    "                print('CSVRead')\n",
    "                df[str(indicatorNames[k])]= df['Value']\n",
    "                if 'Category' in df.columns:\n",
    "                    print('CategoryYes')\n",
    "                    if k == 0:\n",
    "                        ndf = df[['Area Code', 'Time period', 'Sex', 'Age', 'Category', str(indicatorNames[k])]]\n",
    "                    else:\n",
    "                        ndf = ndf.merge(df[['Area Code', 'Time period', 'Sex', 'Age', 'Category', str(indicatorNames[k])]], on = ['Area Code', 'Time period', 'Sex', 'Age', 'Category'], how = 'outer')\n",
    "                    print(k, ndf.shape)\n",
    "                else:\n",
    "                    print('CategoryNo')\n",
    "                    if k == 0:\n",
    "                        ndf = df[['Area Code', 'Time period', 'Sex', 'Age', str(indicatorNames[k])]]\n",
    "                    else:\n",
    "                        ndf = ndf.merge(df[['Area Code', 'Time period', 'Sex', 'Age', str(indicatorNames[k])]], on = ['Area Code', 'Time period', 'Sex', 'Age'], how = 'outer')\n",
    "                    print('Indicator no. '+k, ndf.shape)\n",
    "            except Exception as e :\n",
    "                print(repr(e),'Area', l, 'Indicator', i,  'Data not read')\n",
    "                pass\n",
    "    if n == 0:\n",
    "         data = ndf\n",
    "    else: \n",
    "        data = data.append(ndf)\n",
    "    print('Got data for child Area = ', l, data.shape)\n"
   ]
  },
  {
   "cell_type": "code",
   "execution_count": null,
   "metadata": {},
   "outputs": [],
   "source": []
  }
 ],
 "metadata": {
  "kernelspec": {
   "display_name": "Python 3",
   "language": "python",
   "name": "python3"
  },
  "language_info": {
   "codemirror_mode": {
    "name": "ipython",
    "version": 3
   },
   "file_extension": ".py",
   "mimetype": "text/x-python",
   "name": "python",
   "nbconvert_exporter": "python",
   "pygments_lexer": "ipython3",
   "version": "3.7.3"
  },
  "varInspector": {
   "cols": {
    "lenName": 16,
    "lenType": 16,
    "lenVar": 40
   },
   "kernels_config": {
    "python": {
     "delete_cmd_postfix": "",
     "delete_cmd_prefix": "del ",
     "library": "var_list.py",
     "varRefreshCmd": "print(var_dic_list())"
    },
    "r": {
     "delete_cmd_postfix": ") ",
     "delete_cmd_prefix": "rm(",
     "library": "var_list.r",
     "varRefreshCmd": "cat(var_dic_list()) "
    }
   },
   "types_to_exclude": [
    "module",
    "function",
    "builtin_function_or_method",
    "instance",
    "_Feature"
   ],
   "window_display": false
  }
 },
 "nbformat": 4,
 "nbformat_minor": 2
}
